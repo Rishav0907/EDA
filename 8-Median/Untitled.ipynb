{
 "cells": [
  {
   "cell_type": "markdown",
   "metadata": {},
   "source": [
    "# __Median__"
   ]
  },
  {
   "cell_type": "markdown",
   "metadata": {},
   "source": [
    "#### Unlike mean median does not changes drastically if some data gets corrupted. Median may change if 50% or more than it is corrupted"
   ]
  },
  {
   "cell_type": "code",
   "execution_count": 2,
   "metadata": {},
   "outputs": [],
   "source": [
    "import pandas as pd\n",
    "import numpy as np\n",
    "\n",
    "iris=pd.read_csv('iris.csv')"
   ]
  },
  {
   "cell_type": "code",
   "execution_count": 3,
   "metadata": {},
   "outputs": [],
   "source": [
    "iris_setosa      = iris.loc[iris['species']=='Setosa']\n",
    "iris_virginica   = iris.loc[iris['species']=='Virginica']\n",
    "iris_versicolor  = iris.loc[iris['species']=='Versicolor']"
   ]
  },
  {
   "cell_type": "code",
   "execution_count": 11,
   "metadata": {},
   "outputs": [
    {
     "name": "stdout",
     "output_type": "stream",
     "text": [
      " Median\n",
      "=========\n",
      "Median of Setosa            : 1.5\n",
      "Corrupted median of setosa  : 1.5\n",
      "Median of virginica         : 5.55\n",
      "Median of versicolor        : 4.35\n"
     ]
    }
   ],
   "source": [
    "print(\" Median\")\n",
    "print(\"=========\")\n",
    "print(f\"Median of Setosa            : {np.median(iris_setosa['petal_length'])}\")\n",
    "\n",
    "#corrupting data\n",
    "print(f\"Corrupted median of setosa  : {np.median(np.append(iris_setosa['petal_length'],50))}\")\n",
    "\n",
    "print(f\"Median of virginica         : {np.median(iris_virginica['petal_length'])}\")\n",
    "print(f\"Median of versicolor        : {np.median(iris_versicolor['petal_length'])}\")"
   ]
  },
  {
   "cell_type": "code",
   "execution_count": null,
   "metadata": {},
   "outputs": [],
   "source": []
  }
 ],
 "metadata": {
  "kernelspec": {
   "display_name": "Python 3",
   "language": "python",
   "name": "python3"
  },
  "language_info": {
   "codemirror_mode": {
    "name": "ipython",
    "version": 3
   },
   "file_extension": ".py",
   "mimetype": "text/x-python",
   "name": "python",
   "nbconvert_exporter": "python",
   "pygments_lexer": "ipython3",
   "version": "3.8.3"
  }
 },
 "nbformat": 4,
 "nbformat_minor": 4
}
