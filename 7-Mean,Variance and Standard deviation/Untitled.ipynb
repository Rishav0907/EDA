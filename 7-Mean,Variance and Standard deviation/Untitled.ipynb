{
 "cells": [
  {
   "cell_type": "markdown",
   "metadata": {},
   "source": [
    "# __Mean, Variance and Standard Devaition__"
   ]
  },
  {
   "cell_type": "code",
   "execution_count": 1,
   "metadata": {},
   "outputs": [],
   "source": [
    "import pandas as pd\n",
    "import numpy as np\n",
    "\n",
    "iris=pd.read_csv('iris.csv')"
   ]
  },
  {
   "cell_type": "code",
   "execution_count": 2,
   "metadata": {},
   "outputs": [],
   "source": [
    "iris_setosa      = iris.loc[iris['species']=='Setosa']\n",
    "iris_virginica   = iris.loc[iris['species']=='Virginica']\n",
    "iris_versicolor  = iris.loc[iris['species']=='Versicolor']"
   ]
  },
  {
   "cell_type": "code",
   "execution_count": 11,
   "metadata": {},
   "outputs": [
    {
     "name": "stdout",
     "output_type": "stream",
     "text": [
      " Means\n",
      "=======\n",
      "Mean of setosa           :  1.4620000000000002\n",
      "Corrupted mean of setosa :  2.4137254901960787\n",
      "Mean of versicolor       :  4.26\n",
      "Mean of virginica        :  5.5520000000000005\n"
     ]
    }
   ],
   "source": [
    "print(' Means')\n",
    "print(\"=======\")\n",
    "print(f\"Mean of setosa           :  {np.mean(iris_setosa['petal_length'])}\")\n",
    "# corrupting the data by adding a different value\n",
    "print(f\"Corrupted mean of setosa :  {np.mean(np.append(iris_setosa['petal_length'],50))}\")\n",
    "print(f\"Mean of versicolor       :  {np.mean(iris_versicolor['petal_length'])}\")\n",
    "print(f\"Mean of virginica        :  {np.mean(iris_virginica['petal_length'])}\")"
   ]
  },
  {
   "cell_type": "markdown",
   "metadata": {},
   "source": [
    "### __Observations:__\n",
    "#### 1. An outliner is basically a value in a data which is very different from the rest of data\n",
    "#### 2. Here we are adding a extra 50 in petal length and value of mean changes drastically. So it is a problem of mean that if somehow a wrong data is present it changes the whole data"
   ]
  },
  {
   "cell_type": "code",
   "execution_count": 14,
   "metadata": {},
   "outputs": [
    {
     "name": "stdout",
     "output_type": "stream",
     "text": [
      "Standard Deviation\n",
      "Standard deviation of setosa     : 0.17191858538273283\n",
      "Standard deviation of versicolor : 0.4651881339845203\n",
      "Standard deviation of virginica  : 0.546347874526844\n"
     ]
    }
   ],
   "source": [
    "print(\"Standard Deviation\")\n",
    "print(f\"Standard deviation of setosa     : {np.std(iris_setosa['petal_length'])}\")\n",
    "print(f\"Standard deviation of versicolor : {np.std(iris_versicolor['petal_length'])}\")\n",
    "print(f\"Standard deviation of virginica  : {np.std(iris_virginica['petal_length'])}\")"
   ]
  },
  {
   "cell_type": "markdown",
   "metadata": {},
   "source": [
    "#### __Formula of sd__ = (sum of all-mean)/total no "
   ]
  },
  {
   "cell_type": "markdown",
   "metadata": {},
   "source": [
    "#### 1.standard devaition is the spread of a data. It means what is the range of a particular flower is\n",
    "#### 2. As sd is also depended on mean so corrupting a data will also change sd drastically"
   ]
  },
  {
   "cell_type": "markdown",
   "metadata": {},
   "source": []
  }
 ],
 "metadata": {
  "kernelspec": {
   "display_name": "Python 3",
   "language": "python",
   "name": "python3"
  },
  "language_info": {
   "codemirror_mode": {
    "name": "ipython",
    "version": 3
   },
   "file_extension": ".py",
   "mimetype": "text/x-python",
   "name": "python",
   "nbconvert_exporter": "python",
   "pygments_lexer": "ipython3",
   "version": "3.8.3"
  }
 },
 "nbformat": 4,
 "nbformat_minor": 4
}
