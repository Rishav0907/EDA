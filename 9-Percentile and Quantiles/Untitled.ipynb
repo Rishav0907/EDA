{
 "cells": [
  {
   "cell_type": "markdown",
   "metadata": {},
   "source": [
    "# __Percentiles and Quantiles__"
   ]
  },
  {
   "cell_type": "markdown",
   "metadata": {},
   "source": [
    "#### Percentile is basically a rank within a given list\n",
    "#### The percentile with a gap of 5 are called quantiles"
   ]
  },
  {
   "cell_type": "code",
   "execution_count": 1,
   "metadata": {},
   "outputs": [],
   "source": [
    "import numpy as np\n",
    "import pandas as pd\n",
    "\n",
    "iris=pd.read_csv('iris.csv')"
   ]
  },
  {
   "cell_type": "code",
   "execution_count": 11,
   "metadata": {},
   "outputs": [],
   "source": [
    "iris_setosa     = iris.loc[iris['species']=='Setosa']\n",
    "iris_virginica  = iris.loc[iris['species']=='Virginica']\n",
    "iris_versicolor = iris.loc[iris['species']=='Versicolor']"
   ]
  },
  {
   "cell_type": "markdown",
   "metadata": {},
   "source": [
    "### __Percentile__"
   ]
  },
  {
   "cell_type": "code",
   "execution_count": 10,
   "metadata": {},
   "outputs": [
    {
     "name": "stdout",
     "output_type": "stream",
     "text": [
      "90th percentile of setosa for petal length:1.7\n",
      "90th percentile of virginica for petal length:6.3100000000000005\n",
      "90th percentile of versicolor for petal length:4.8\n"
     ]
    }
   ],
   "source": [
    "print(f\"90th percentile of setosa for petal length:{np.percentile(iris_setosa['petal_length'],90)}\")\n",
    "print(f\"90th percentile of virginica for petal length:{np.percentile(iris_virginica['petal_length'],90)}\")\n",
    "print(f\"90th percentile of versicolor for petal length:{np.percentile(iris_versicolor['petal_length'],90)}\")"
   ]
  },
  {
   "cell_type": "markdown",
   "metadata": {},
   "source": [
    "#### __Quantiles__"
   ]
  },
  {
   "cell_type": "code",
   "execution_count": 17,
   "metadata": {},
   "outputs": [
    {
     "name": "stdout",
     "output_type": "stream",
     "text": [
      "Quantile for Setosa      : [1.    1.4   1.5   1.575]\n",
      "Quantile for virginica   : [4.5   5.1   5.55  5.875]\n",
      "Quantile for versilcolor : [3.   4.   4.35 4.6 ]\n"
     ]
    }
   ],
   "source": [
    "print(\"Quantile for Setosa      :\",np.percentile(iris_setosa['petal_length'],np.arange(0,100,25)))\n",
    "print(\"Quantile for virginica   :\",np.percentile(iris_virginica['petal_length'],np.arange(0,100,25)))\n",
    "print(\"Quantile for versilcolor :\",np.percentile(iris_versicolor['petal_length'],np.arange(0,100,25)))"
   ]
  },
  {
   "cell_type": "code",
   "execution_count": null,
   "metadata": {},
   "outputs": [],
   "source": []
  }
 ],
 "metadata": {
  "kernelspec": {
   "display_name": "Python 3",
   "language": "python",
   "name": "python3"
  },
  "language_info": {
   "codemirror_mode": {
    "name": "ipython",
    "version": 3
   },
   "file_extension": ".py",
   "mimetype": "text/x-python",
   "name": "python",
   "nbconvert_exporter": "python",
   "pygments_lexer": "ipython3",
   "version": "3.8.3"
  }
 },
 "nbformat": 4,
 "nbformat_minor": 4
}
