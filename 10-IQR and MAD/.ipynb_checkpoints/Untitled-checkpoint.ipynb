{
 "cells": [
  {
   "cell_type": "markdown",
   "metadata": {},
   "source": [
    "# __Inter Quartile Range(IQR) and Median Absolute Deviation(MAD)__"
   ]
  },
  {
   "cell_type": "markdown",
   "metadata": {},
   "source": [
    "#### Median absolute devaition is almost same as the standard deviation but unlike mean median does not changes for some corrupt data."
   ]
  },
  {
   "cell_type": "code",
   "execution_count": 2,
   "metadata": {},
   "outputs": [],
   "source": [
    "import numpy as np\n",
    "import pandas as pd\n",
    "iris=pd.read_csv('iris.csv')\n",
    "iris_setosa     = iris.loc[iris['species']=='Setosa']\n",
    "iris_virginica  = iris.loc[iris['species']=='Virginica']\n",
    "iris_versicolor = iris.loc[iris['species']=='Versicolor']"
   ]
  },
  {
   "cell_type": "code",
   "execution_count": 7,
   "metadata": {},
   "outputs": [
    {
     "name": "stdout",
     "output_type": "stream",
     "text": [
      "0.14826022185056031\n",
      "0.6671709983275211\n",
      "0.5189107764769602\n"
     ]
    }
   ],
   "source": [
    "from statsmodels import robust\n",
    "print(robust.mad(iris_setosa['petal_length']))\n",
    "print(robust.mad(iris_virginica['petal_length']))\n",
    "print(robust.mad(iris_versicolor['petal_length']))"
   ]
  },
  {
   "cell_type": "markdown",
   "metadata": {},
   "source": [
    "#### IQR is the difference b/w the 75th and 25th percentile"
   ]
  },
  {
   "cell_type": "code",
   "execution_count": null,
   "metadata": {},
   "outputs": [],
   "source": []
  }
 ],
 "metadata": {
  "kernelspec": {
   "display_name": "Python 3",
   "language": "python",
   "name": "python3"
  },
  "language_info": {
   "codemirror_mode": {
    "name": "ipython",
    "version": 3
   },
   "file_extension": ".py",
   "mimetype": "text/x-python",
   "name": "python",
   "nbconvert_exporter": "python",
   "pygments_lexer": "ipython3",
   "version": "3.8.3"
  }
 },
 "nbformat": 4,
 "nbformat_minor": 4
}
